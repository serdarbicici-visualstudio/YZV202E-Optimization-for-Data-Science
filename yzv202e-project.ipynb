{
  "cells": [
    {
      "cell_type": "markdown",
      "metadata": {
        "id": "dMzM1Fu0crWZ"
      },
      "source": [
        "# Optimizing İSPARK Parking Lot Management in İstanbul\n",
        "\n",
        "## YZV202E Project\n",
        "\n",
        "### Batuhan Sal - 150210316\n",
        "### Ömer Erdağ - 150210332\n",
        "### Serdar Biçici - 150210331"
      ]
    },
    {
      "cell_type": "code",
      "execution_count": 2,
      "metadata": {
        "colab": {
          "base_uri": "https://localhost:8080/"
        },
        "id": "dqY6f9xqc68U",
        "outputId": "2772f40c-1f36-4169-bbb3-17b9116d4ec8"
      },
      "outputs": [
        {
          "name": "stdout",
          "output_type": "stream",
          "text": [
            "Drive already mounted at /content/drive; to attempt to forcibly remount, call drive.mount(\"/content/drive\", force_remount=True).\n"
          ]
        }
      ],
      "source": [
        "from google.colab import drive\n",
        "drive.mount('/content/drive')"
      ]
    },
    {
      "cell_type": "markdown",
      "metadata": {
        "id": "WwjZb--7crWa"
      },
      "source": [
        "This project focuses on optimizing parking lot strategies in İstanbul (İSPARK). By the use of genetic algorithm techniques, with taking into considiration money, distance, parking time. The DNA is the parking lot indexes for each car and the project tries to optimize the DNA sequance with the best fitness score to put cars in best parking lots according to their needs efficiently."
      ]
    },
    {
      "cell_type": "markdown",
      "metadata": {
        "id": "IizHSludcrWa"
      },
      "source": [
        "### Importing Libraries"
      ]
    },
    {
      "cell_type": "code",
      "execution_count": 3,
      "metadata": {
        "id": "TPVLYZPrGThz"
      },
      "outputs": [],
      "source": [
        "import requests\n",
        "import json\n",
        "import pandas as pd\n",
        "import numpy as np\n",
        "import random\n",
        "import csv\n",
        "import matplotlib.pyplot as plt\n",
        "from geopy.distance import geodesic"
      ]
    },
    {
      "cell_type": "markdown",
      "metadata": {
        "id": "1pDxGZ7wcrWb"
      },
      "source": [
        "## Data Acquisition"
      ]
    },
    {
      "cell_type": "markdown",
      "metadata": {
        "id": "J8FlG1_IcrWb"
      },
      "source": [
        "#### Data of the project will be provided by \"İBB Açık Veri Portalı\" and datasets will be requested from respected APIs.\n",
        "\n",
        "ps: Some of the cells are commented out because of proccessing time constraints, instead of requesting new data already requested dataset will be used."
      ]
    },
    {
      "cell_type": "code",
      "execution_count": 4,
      "metadata": {
        "id": "7B-ojTi5O70s"
      },
      "outputs": [],
      "source": [
        "def get_data(url):\n",
        "    \"\"\"\n",
        "    Gets the data from the API and returns it as a list of dictionaries.\n",
        "\n",
        "    args:\n",
        "        url<str>: the url of the API\n",
        "\n",
        "    returns:\n",
        "        data<list>: the data from the API as a list of dictionaries\n",
        "    \"\"\"\n",
        "\n",
        "    # getting the data from the API as a list of dictionaries\n",
        "    response = requests.get(url)\n",
        "    data = response.json()\n",
        "\n",
        "    # altering the encoding as Turkish\n",
        "    data = json.dumps(data, ensure_ascii=False).encode('utf8')\n",
        "    data = json.loads(data)\n",
        "    return data"
      ]
    },
    {
      "cell_type": "markdown",
      "metadata": {
        "id": "NjGQ9yTgcrWb"
      },
      "source": [
        "### İSPARK Dataset"
      ]
    },
    {
      "cell_type": "code",
      "execution_count": 5,
      "metadata": {
        "colab": {
          "base_uri": "https://localhost:8080/",
          "height": 53
        },
        "id": "X1obCAjjGhGK",
        "outputId": "aea430a6-86f7-42f3-d7be-059b0dd719bd"
      },
      "outputs": [
        {
          "data": {
            "application/vnd.google.colaboratory.intrinsic+json": {
              "type": "string"
            },
            "text/plain": [
              "'\\n# İSPARK API\\npark_url = \"https://api.ibb.gov.tr/ispark/Park\"\\ndetay_url = \"https://api.ibb.gov.tr/ispark/ParkDetay?id=\"\\n\\n# getting the data\\nlot_data = get_data(park_url)\\nlots_id = []\\nfor lot in lot_data:\\n    lots_id.append(lot[\"parkID\"])\\n'"
            ]
          },
          "execution_count": 5,
          "metadata": {},
          "output_type": "execute_result"
        }
      ],
      "source": [
        "\"\"\"\n",
        "# İSPARK API\n",
        "park_url = \"https://api.ibb.gov.tr/ispark/Park\"\n",
        "detay_url = \"https://api.ibb.gov.tr/ispark/ParkDetay?id=\"\n",
        "\n",
        "# getting the data\n",
        "lot_data = get_data(park_url)\n",
        "lots_id = []\n",
        "for lot in lot_data:\n",
        "    lots_id.append(lot[\"parkID\"])\n",
        "\"\"\""
      ]
    },
    {
      "cell_type": "code",
      "execution_count": 6,
      "metadata": {
        "colab": {
          "base_uri": "https://localhost:8080/",
          "height": 70
        },
        "id": "LeuDVoZnGhXU",
        "outputId": "54dc7fa3-0e89-43c0-a1c6-441c7bde5c40"
      },
      "outputs": [
        {
          "data": {
            "application/vnd.google.colaboratory.intrinsic+json": {
              "type": "string"
            },
            "text/plain": [
              "'\\n# initializing the data frame with the columns\\ncolumns = get_data(detay_url+\"0\")[0].keys()\\ndf = pd.DataFrame(columns=columns)\\n\\n# filling the data frame\\nfor id in lots_id:\\n    data = get_data(detay_url + str(id))[0]\\n    df = df._append(pd.DataFrame(data, index=[0]), ignore_index=True)\\n\\n# saving the data frame as a CSV file\\ndf.to_csv(\"ispark_data.csv\", index=False)\\n'"
            ]
          },
          "execution_count": 6,
          "metadata": {},
          "output_type": "execute_result"
        }
      ],
      "source": [
        "\"\"\"\n",
        "# initializing the data frame with the columns\n",
        "columns = get_data(detay_url+\"0\")[0].keys()\n",
        "df = pd.DataFrame(columns=columns)\n",
        "\n",
        "# filling the data frame\n",
        "for id in lots_id:\n",
        "    data = get_data(detay_url + str(id))[0]\n",
        "    df = df._append(pd.DataFrame(data, index=[0]), ignore_index=True)\n",
        "\n",
        "# saving the data frame as a CSV file\n",
        "df.to_csv(\"ispark_data.csv\", index=False)\n",
        "\"\"\""
      ]
    },
    {
      "cell_type": "code",
      "execution_count": 7,
      "metadata": {
        "colab": {
          "base_uri": "https://localhost:8080/",
          "height": 36
        },
        "id": "3uqp1mWbGhoh",
        "outputId": "917092e5-fff2-4523-cf98-da50d560ce1d"
      },
      "outputs": [
        {
          "data": {
            "application/vnd.google.colaboratory.intrinsic+json": {
              "type": "string"
            },
            "text/plain": [
              "'\\ndf\\n'"
            ]
          },
          "execution_count": 7,
          "metadata": {},
          "output_type": "execute_result"
        }
      ],
      "source": [
        "\"\"\"\n",
        "df\n",
        "\"\"\""
      ]
    },
    {
      "cell_type": "code",
      "execution_count": 8,
      "metadata": {
        "colab": {
          "base_uri": "https://localhost:8080/",
          "height": 123
        },
        "id": "kz7_akb3a1Gi",
        "outputId": "a6395dc2-63d0-4748-b9bc-1b7f84cd379f"
      },
      "outputs": [
        {
          "data": {
            "application/vnd.google.colaboratory.intrinsic+json": {
              "type": "string"
            },
            "text/plain": [
              "'\\n# tariff cleaning list for İSPARK\\ntariff_to_be_deleted = [\"1-2 Saat Otobüs  : 10,00;2-3 Saat Otobüs  : 20,00;3-4 Saat Otobüs  : 30,00;4-5 Saat Otobüs  : 40,00;5-6 Saat Otobüs  : 50,00;6-7 Saat Otobüs  : 60,00;7-8 Saat Otobüs  : 70,00;8-9 Saat Otobüs  : 80,00;9-10 Saat Otobüs  : 100,00;10-11 Saat Otobüs  : 110,00;11-12 Saat Otobüs  : 120,00;12-13 Saat Otobüs  : 130,00;13-14 Saat Otobüs  : 140,00;14-15 Saat Otobüs  : 150,00;15-16 Saat Otobüs  : 160,00;16-17 Saat Otobüs  : 170,00;17-18 Saat Otobüs  : 180,00;18-19 Saat Otobüs  : 200,00;19-20 Saat Otobüs  : 210,00;20-21 Saat Otobüs  : 220,00;21-22 Saat Otobüs  : 230,00;22-23 Saat Otobüs  : 240,00;23-24 Saat Otobüs : 250,00\",\\n                        \"0-3 Saat Kamyon  : 45,00;0-3 Saat Minibüs-Kamyonet : 25,00;0-3 Saat Otomobil  : 25,00;0-3 Saat Tır  : 65,00;3-5 Saat Kamyon  : 55,00;3-5 Saat Minibüs-Kamyonet : 40,00;3-5 Saat Otomobil  : 35,00;3-5 Saat Tır  : 70,00;5-8 Saat Kamyon  : 100,00;5-8 Saat Minibüs-Kamyonet : 60,00;5-8 Saat Otomobil  : 45,00;5-8 Saat Tır  : 95,00;8-12 Saat Kamyon  : 130,00;8-12 Saat Minibüs-Kamyonet  : 75,00;8-12 Saat Otomobil  : 60,00;8-12 Saat Tır  : 124,00;Tam Gün Kamyon  : 150,00;Tam Gün Minibüs-Kamyonet : 120,00;Tam Gün Otomobil  : 70,00;Tam Gün Tır  : 160,00\",\\n                        \"Otomobil : 65,00\", \"Kamyon : 50,00;Kamyonet/Jeep/Minibüs : 40,00;Tır : 100,00\", \"30 Dk-1 Saat : 35,00;1-2 Saat : 40,00;2-3 Saat : 45,00;3-4 Saat : 50,00;4-5 Saat : 55,00;5-6 Saat : 60,00;6-7 Saat : 65,00;7-8 Saat : 70,00;8-9 Saat : 75,00;9-10 Saat : 80,00;10-11 Saat : 85,00;11-12 Saat : 90,00;12-13 Saat : 95,00;13-14 Saat : 100,00;14-15 Saat : 105,00;15-16 Saat : 110,00;16-17 Saat : 115,00;17-18 Saat : 120,00;18-19 Saat : 125,00;19-20 Saat : 130,00;20-21 Saat : 135,00;21-22 Saat : 140,00;22-23 Saat : 145,00;23-24 Saat : 150,00\"]\\n\\nprint(\"Before cleaning:\", len(df))\\n\\n# cleaning the data frame\\nfor i in range(len(df)):\\n    payment = df[\"tariff\"][i]\\n\\n    if payment in tariff_to_be_deleted:\\n        df = df.drop(i)\\n    elif \"Tam Gün\" not in payment:\\n        df = df.drop(i)\\n\\nprint(\"After cleaning:\", len(df))\\n'"
            ]
          },
          "execution_count": 8,
          "metadata": {},
          "output_type": "execute_result"
        }
      ],
      "source": [
        "\"\"\"\n",
        "# tariff cleaning list for İSPARK\n",
        "tariff_to_be_deleted = [\"1-2 Saat Otobüs  : 10,00;2-3 Saat Otobüs  : 20,00;3-4 Saat Otobüs  : 30,00;4-5 Saat Otobüs  : 40,00;5-6 Saat Otobüs  : 50,00;6-7 Saat Otobüs  : 60,00;7-8 Saat Otobüs  : 70,00;8-9 Saat Otobüs  : 80,00;9-10 Saat Otobüs  : 100,00;10-11 Saat Otobüs  : 110,00;11-12 Saat Otobüs  : 120,00;12-13 Saat Otobüs  : 130,00;13-14 Saat Otobüs  : 140,00;14-15 Saat Otobüs  : 150,00;15-16 Saat Otobüs  : 160,00;16-17 Saat Otobüs  : 170,00;17-18 Saat Otobüs  : 180,00;18-19 Saat Otobüs  : 200,00;19-20 Saat Otobüs  : 210,00;20-21 Saat Otobüs  : 220,00;21-22 Saat Otobüs  : 230,00;22-23 Saat Otobüs  : 240,00;23-24 Saat Otobüs : 250,00\",\n",
        "                        \"0-3 Saat Kamyon  : 45,00;0-3 Saat Minibüs-Kamyonet : 25,00;0-3 Saat Otomobil  : 25,00;0-3 Saat Tır  : 65,00;3-5 Saat Kamyon  : 55,00;3-5 Saat Minibüs-Kamyonet : 40,00;3-5 Saat Otomobil  : 35,00;3-5 Saat Tır  : 70,00;5-8 Saat Kamyon  : 100,00;5-8 Saat Minibüs-Kamyonet : 60,00;5-8 Saat Otomobil  : 45,00;5-8 Saat Tır  : 95,00;8-12 Saat Kamyon  : 130,00;8-12 Saat Minibüs-Kamyonet  : 75,00;8-12 Saat Otomobil  : 60,00;8-12 Saat Tır  : 124,00;Tam Gün Kamyon  : 150,00;Tam Gün Minibüs-Kamyonet : 120,00;Tam Gün Otomobil  : 70,00;Tam Gün Tır  : 160,00\",\n",
        "                        \"Otomobil : 65,00\", \"Kamyon : 50,00;Kamyonet/Jeep/Minibüs : 40,00;Tır : 100,00\", \"30 Dk-1 Saat : 35,00;1-2 Saat : 40,00;2-3 Saat : 45,00;3-4 Saat : 50,00;4-5 Saat : 55,00;5-6 Saat : 60,00;6-7 Saat : 65,00;7-8 Saat : 70,00;8-9 Saat : 75,00;9-10 Saat : 80,00;10-11 Saat : 85,00;11-12 Saat : 90,00;12-13 Saat : 95,00;13-14 Saat : 100,00;14-15 Saat : 105,00;15-16 Saat : 110,00;16-17 Saat : 115,00;17-18 Saat : 120,00;18-19 Saat : 125,00;19-20 Saat : 130,00;20-21 Saat : 135,00;21-22 Saat : 140,00;22-23 Saat : 145,00;23-24 Saat : 150,00\"]\n",
        "\n",
        "print(\"Before cleaning:\", len(df))\n",
        "\n",
        "# cleaning the data frame\n",
        "for i in range(len(df)):\n",
        "    payment = df[\"tariff\"][i]\n",
        "\n",
        "    if payment in tariff_to_be_deleted:\n",
        "        df = df.drop(i)\n",
        "    elif \"Tam Gün\" not in payment:\n",
        "        df = df.drop(i)\n",
        "\n",
        "print(\"After cleaning:\", len(df))\n",
        "\"\"\""
      ]
    },
    {
      "cell_type": "markdown",
      "metadata": {
        "id": "ygTxhIW1crWd"
      },
      "source": [
        "### Car Coordinates Dataset"
      ]
    },
    {
      "cell_type": "markdown",
      "metadata": {
        "id": "CJ5Y6QrEcrWd"
      },
      "source": [
        "#### For example car coordinates, minibus stops' coordinates are going to be used because of their realistic locations."
      ]
    },
    {
      "cell_type": "code",
      "execution_count": 9,
      "metadata": {
        "colab": {
          "base_uri": "https://localhost:8080/",
          "height": 105
        },
        "id": "0VRxT5aTcrWd",
        "outputId": "1e2f9713-9ce1-40d6-dc44-fc5f98667821"
      },
      "outputs": [
        {
          "data": {
            "application/vnd.google.colaboratory.intrinsic+json": {
              "type": "string"
            },
            "text/plain": [
              "'\\n# setting the url\\nurl = \"https://data.ibb.gov.tr/dataset/8b4391c0-e647-4635-aaf7-5baee24c6e81/resource/0d4fbb9f-cd5f-4005-aa57-6bb76db3fc58/download/istanbul_minibus_duraklari.geojson\"\\n\\n# getting the data from the API\\nresponse = requests.get(url)\\ndata = response.json()\\n\\n# creating the data frame\\ndf_car = pd.DataFrame(data[\\'features\\'])\\n\\n# extracting the coordinates\\ndf_car[\\'coordinates\\'] = df_car[\\'geometry\\'].apply(lambda x: x[\\'coordinates\\'])\\ndf_car[\\'latitude\\'] = df_car[\\'coordinates\\'].apply(lambda x: x[1])\\ndf_car[\\'longitude\\'] = df_car[\\'coordinates\\'].apply(lambda x: x[0])\\n\\n# dropping the unnecessary columns\\ndf_car = df_car.drop([\\'type\\', \\'geometry\\', \\'coordinates\\'], axis=1)\\n\\n# saving the data frame as a CSV file\\ndf_car.to_csv(\\'coordinates.csv\\', index=False)\\n'"
            ]
          },
          "execution_count": 9,
          "metadata": {},
          "output_type": "execute_result"
        }
      ],
      "source": [
        "\"\"\"\n",
        "# setting the url\n",
        "url = \"https://data.ibb.gov.tr/dataset/8b4391c0-e647-4635-aaf7-5baee24c6e81/resource/0d4fbb9f-cd5f-4005-aa57-6bb76db3fc58/download/istanbul_minibus_duraklari.geojson\"\n",
        "\n",
        "# getting the data from the API\n",
        "response = requests.get(url)\n",
        "data = response.json()\n",
        "\n",
        "# creating the data frame\n",
        "df_car = pd.DataFrame(data['features'])\n",
        "\n",
        "# extracting the coordinates\n",
        "df_car['coordinates'] = df_car['geometry'].apply(lambda x: x['coordinates'])\n",
        "df_car['latitude'] = df_car['coordinates'].apply(lambda x: x[1])\n",
        "df_car['longitude'] = df_car['coordinates'].apply(lambda x: x[0])\n",
        "\n",
        "# dropping the unnecessary columns\n",
        "df_car = df_car.drop(['type', 'geometry', 'coordinates'], axis=1)\n",
        "\n",
        "# saving the data frame as a CSV file\n",
        "df_car.to_csv('coordinates.csv', index=False)\n",
        "\"\"\""
      ]
    },
    {
      "cell_type": "markdown",
      "metadata": {
        "id": "DV-JE7WKcrWd"
      },
      "source": [
        "## Loading the Existing Data"
      ]
    },
    {
      "cell_type": "code",
      "execution_count": 10,
      "metadata": {
        "id": "iS85vqhUcrWd"
      },
      "outputs": [],
      "source": [
        "# read the data from the csv file\n",
        "df = pd.read_csv(\"/content/drive/MyDrive/colab_datasets/yzv202e/ispark_data_son.csv\")\n",
        "\n",
        "# get the data from the csv file\n",
        "car_data = pd.read_csv(\"/content/drive/MyDrive/colab_datasets/yzv202e/coordinates.csv\")\n",
        "car_data = car_data.dropna()\n",
        "\n",
        "# drop first column\n",
        "car_data = car_data.drop(car_data.columns[0], axis=1)\n",
        "car_data = car_data.to_numpy()"
      ]
    },
    {
      "cell_type": "markdown",
      "metadata": {
        "id": "U_MTpjsJcrWd"
      },
      "source": [
        "## Park Class\n",
        "\n",
        "#### Creating a \"Park\" class for properties of parking lots"
      ]
    },
    {
      "cell_type": "code",
      "execution_count": 11,
      "metadata": {
        "id": "1uS7xpmfMdbC"
      },
      "outputs": [],
      "source": [
        "class Park():\n",
        "    # constructor\n",
        "    def __init__(self, id, lat, lng, name, empty, capacity, prices):\n",
        "        self.id = id\n",
        "        self.lat = float(lat)\n",
        "        self.lng = float(lng)\n",
        "        self.capacity = capacity\n",
        "        self.cars = capacity - empty\n",
        "        self.capacity_rate = self.cars / self.capacity\n",
        "\n",
        "        # if the parking lot is empty\n",
        "        if self.capacity_rate == 1:\n",
        "            self.empty = False\n",
        "        else:\n",
        "            self.empty = True\n",
        "\n",
        "        self.name = name\n",
        "        self.prices = {}\n",
        "\n",
        "        # parsing the prices and adding them to the dictionary\n",
        "        for price in prices.split(\";\"):\n",
        "\n",
        "            saat, p = price.split(\" : \")\n",
        "\n",
        "            if saat == \"Tam Gün\":\n",
        "                self.prices[saat] = int(p.split(\",\")[0])\n",
        "                continue\n",
        "\n",
        "            saat = saat.split(\" \")\n",
        "\n",
        "            if(saat[0] == \"30\"):\n",
        "                self.prices[\"0,1\"] = int(p.split(\",\")[0])\n",
        "\n",
        "            else:\n",
        "                p1,p2 = saat[0].split(\"-\")\n",
        "                self.prices[f\"{p1},{p2}\"] = int(p.split(\",\")[0])\n",
        "\n",
        "    def isempty(self):\n",
        "        \"\"\"\n",
        "        Returns whether the parking lot is empty or not.\n",
        "\n",
        "        returns:\n",
        "            empty<bool>: whether the parking lot is empty or not\n",
        "        \"\"\"\n",
        "\n",
        "        return self.empty\n",
        "\n",
        "    def get_capacity_rate(self):\n",
        "        \"\"\"\n",
        "        Returns the capacity rate of the parking lot.\n",
        "\n",
        "        returns:\n",
        "            capacity_rate<float>: the capacity rate of the parking lot\n",
        "        \"\"\"\n",
        "\n",
        "        return self.capacity_rate\n",
        "\n",
        "    def add_car(self):\n",
        "        \"\"\"\n",
        "        Adds a car to the parking lot.\n",
        "        \"\"\"\n",
        "\n",
        "        self.cars += 1\n",
        "        self.capacity_rate = self.cars / self.capacity\n",
        "\n",
        "        if self.capacity_rate == 1:\n",
        "            self.empty = False\n",
        "\n",
        "    def remove_car(self):\n",
        "        \"\"\"\n",
        "        Removes a car from the parking lot.\n",
        "        \"\"\"\n",
        "\n",
        "        self.cars -= 1\n",
        "        self.capacity_rate = self.cars / self.capacity\n",
        "        self.empty = True\n",
        "\n",
        "    def get_price(self, hour):\n",
        "        \"\"\"\n",
        "        Returns the price of the parking lot according to the hour.\n",
        "\n",
        "        args:\n",
        "            hour<float>: the hour to calculate the price\n",
        "\n",
        "        returns:\n",
        "            price<float>: the price of the parking lot according to the hour\n",
        "        \"\"\"\n",
        "\n",
        "        # if the parking time is a full day\n",
        "        if hour == 24 or hour == \"Tam Gün\":\n",
        "            return self.prices[\"Tam Gün\"]\n",
        "\n",
        "        # get the price according to the hour\n",
        "        for key in self.prices.keys():\n",
        "\n",
        "            if key == \"Tam Gün\":\n",
        "                return self.prices[key]\n",
        "\n",
        "            pr = str(key).split(\",\")\n",
        "            p1,p2 = float(pr[0]), float(pr[1])\n",
        "\n",
        "            if p1 <= hour <= p2:\n",
        "                return self.prices[key]\n",
        "\n",
        "        # if the hour is not in the prices\n",
        "        else:\n",
        "\n",
        "            return self.prices[\"Tam Gün\"]\n"
      ]
    },
    {
      "cell_type": "markdown",
      "metadata": {
        "id": "MlUH3wNIcrWe"
      },
      "source": [
        "### Creating \"Park\" Objects"
      ]
    },
    {
      "cell_type": "code",
      "execution_count": 12,
      "metadata": {
        "colab": {
          "base_uri": "https://localhost:8080/"
        },
        "id": "YMLTTHfOa1Gl",
        "outputId": "54c7ad4f-8d35-462c-c219-c8bb502dff23"
      },
      "outputs": [
        {
          "name": "stdout",
          "output_type": "stream",
          "text": [
            "Parks are created\n"
          ]
        }
      ],
      "source": [
        "# index\n",
        "i = 0\n",
        "\n",
        "# list of parks\n",
        "parks = []\n",
        "\n",
        "# create the parks\n",
        "for index,row in df.iterrows():\n",
        "\n",
        "    park = Park(i,row[\"lat\"],row[\"lng\"],row[\"parkName\"],row[\"emptyCapacity\"],row[\"capacity\"],row[\"tariff\"])\n",
        "    i += 1\n",
        "    parks.append(park)\n",
        "\n",
        "print(\"Parks are created\")"
      ]
    },
    {
      "cell_type": "markdown",
      "metadata": {
        "id": "aGZ-f1z5crWe"
      },
      "source": [
        "## Car Class\n",
        "\n",
        "#### Creating a \"Car\" class for properties of a random created car."
      ]
    },
    {
      "cell_type": "code",
      "execution_count": 13,
      "metadata": {
        "id": "EE5DC8FXL-Jj"
      },
      "outputs": [],
      "source": [
        "class Car():\n",
        "    def __init__(self, location, gas_usage, hour):\n",
        "        self.location = location\n",
        "        self.parking_hour = hour\n",
        "        self.gas_usage = gas_usage"
      ]
    },
    {
      "cell_type": "markdown",
      "metadata": {
        "id": "4GkysS6YcrWe"
      },
      "source": [
        "### Random Car Dataset Generation"
      ]
    },
    {
      "cell_type": "code",
      "execution_count": 14,
      "metadata": {
        "colab": {
          "base_uri": "https://localhost:8080/"
        },
        "id": "U2E8nViua1Gq",
        "outputId": "f875e6dd-20c5-466f-9845-687c2e4d642c"
      },
      "outputs": [
        {
          "name": "stdout",
          "output_type": "stream",
          "text": [
            "Cars are created\n"
          ]
        }
      ],
      "source": [
        "# setting the random seed\n",
        "np.random.seed(31)\n",
        "\n",
        "# setting the number of cars\n",
        "car_number = 100\n",
        "\n",
        "# selecting random car data\n",
        "car_data = random.sample(list(car_data), car_number)\n",
        "\n",
        "# list of cars\n",
        "cars = []\n",
        "\n",
        "# creating the cars\n",
        "for i in range(len(car_data)):\n",
        "    car = Car(car_data[i], np.random.rand() * 5 + 5, np.random.randint(1, 24))\n",
        "    cars.append(car)\n",
        "\n",
        "print(\"Cars are created\")"
      ]
    },
    {
      "cell_type": "markdown",
      "metadata": {
        "id": "HjXw0WzScrWf"
      },
      "source": [
        "## Genetic Algorithm\n",
        "\n",
        "#### The genetic algorithm will optimize the parking lot - car matchups based on the fitness function. While doing so, it will also take the empty parking spaces in considiration."
      ]
    },
    {
      "cell_type": "code",
      "execution_count": 15,
      "metadata": {
        "id": "ULwQcs_QcrWf"
      },
      "outputs": [],
      "source": [
        "def run_genetic_algorithm(parks, cars, population_size, generations, mutation_rate, mode=1, verbose=False):\n",
        "    \"\"\"\n",
        "    Runs the genetic algorithm to find the best assignment of cars to parking lots.\n",
        "\n",
        "    args:\n",
        "        parks<list>: the list of parking lots\n",
        "        cars<list>: the list of cars\n",
        "        population_size<int>: the size of the population\n",
        "        generations<int>: the number of generations\n",
        "        mutation_rate<float>: the mutation rate\n",
        "        mode<int>: the mode of the fitness function\n",
        "        verbose<bool>: whether to print the progress or not\n",
        "\n",
        "    returns:\n",
        "        best_assignment<list>: the best assignment of cars to parking lots\n",
        "        best_fitness<float>: the fitness of the best assignment\n",
        "        fitness_scores<list>: the fitness scores of the generations\n",
        "    \"\"\"\n",
        "\n",
        "    def fitness_function(park_index, cars, mode):\n",
        "        \"\"\"\n",
        "        Calculates the fitness of the assignment of cars to parking lots.\n",
        "\n",
        "        args:\n",
        "            park_index<list>: the assignment of cars to parking lots\n",
        "            cars<list>: the list of cars\n",
        "            mode<int>: the mode of the fitness function\n",
        "\n",
        "        returns:\n",
        "            fitness<float>: the fitness of the assignment\n",
        "        \"\"\"\n",
        "\n",
        "        # initializing the variables\n",
        "        total_cost = 0\n",
        "        space_utilization = 0\n",
        "        user_satisfaction = 0\n",
        "\n",
        "        # list of added parks\n",
        "        added_parks = np.zeros(len(parks))\n",
        "\n",
        "        # calculating the total cost\n",
        "        for car,park in zip(cars,park_index):\n",
        "\n",
        "            # calculating the distance\n",
        "            distance = geodesic(car.location, (parks[park].lat, parks[park].lng)).km\n",
        "\n",
        "            # calculating the gas cost\n",
        "            gas_cost = (distance * (car.gas_usage+3))\n",
        "\n",
        "            # calculating the parking cost\n",
        "            parking_cost = parks[park].get_price(car.parking_hour)\n",
        "\n",
        "            # calculating the total cost\n",
        "            total_cost += gas_cost + parking_cost\n",
        "\n",
        "            # if the parking lot is empty\n",
        "            if parks[park].isempty():\n",
        "                parks[park].add_car()\n",
        "                added_parks[park] = 1\n",
        "                space_utilization += parks[park].get_capacity_rate()\n",
        "                user_satisfaction += 1\n",
        "            # if the parking lot is full\n",
        "            else:\n",
        "                # penalize heavily if a parking lot is over capacity\n",
        "                total_cost += 1000\n",
        "                user_satisfaction -= 1\n",
        "                space_utilization += 1\n",
        "\n",
        "        # removing the cars from the parking lots\n",
        "        for park in park_index:\n",
        "\n",
        "            if added_parks[park] == 1:\n",
        "                parks[park].remove_car()\n",
        "\n",
        "        # calculating the average values\n",
        "        total_cost /= len(cars)\n",
        "        space_utilization /= len(cars)\n",
        "        space_utilization = 1 - space_utilization\n",
        "        space_utilization *= total_cost\n",
        "        user_satisfaction = max(0, user_satisfaction / len(cars)) * total_cost\n",
        "\n",
        "        # calculating the fitness if the mode is 1\n",
        "        if mode == 1:\n",
        "            return 1/ (0.8*total_cost - 0.1*space_utilization-0.1*user_satisfaction)\n",
        "        # calculating the fitness if the mode is 2\n",
        "        elif mode == 2:\n",
        "            return 0.1 * space_utilization - 0.8 * total_cost + 0.1 * user_satisfaction\n",
        "\n",
        "\n",
        "    def create_initial_population(parks, cars, population_size):\n",
        "        \"\"\"\n",
        "        Creates the initial population of the genetic algorithm.\n",
        "\n",
        "        args:\n",
        "            parks<list>: the list of parking lots\n",
        "            cars<list>: the list of cars\n",
        "            population_size<int>: the size of the population\n",
        "\n",
        "        returns:\n",
        "            population<list>: the initial population of the genetic algorithm\n",
        "        \"\"\"\n",
        "\n",
        "        return [np.random.randint(0, len(parks)-1, len(cars)) for _ in range(population_size)]\n",
        "\n",
        "\n",
        "    def selection(population, fitnesses, population_size):\n",
        "        \"\"\"\n",
        "        Selects the individuals for the next generation.\n",
        "\n",
        "        args:\n",
        "            population<list>: the population of the genetic algorithm\n",
        "            fitnesses<list>: the fitnesses of the population\n",
        "            population_size<int>: the size of the population\n",
        "\n",
        "        returns:\n",
        "            selected_individuals<list>: the selected individuals for the next generation\n",
        "        \"\"\"\n",
        "\n",
        "        # Select the top half of the population\n",
        "        indices = np.argsort(fitnesses)\n",
        "\n",
        "        return [population[i] for i in indices[-(population_size // 2):]]\n",
        "\n",
        "    def crossover(parent1, parent2):\n",
        "        \"\"\"\n",
        "        Performs the crossover operation on the parents.\n",
        "\n",
        "        args:\n",
        "            parent1<list>: the first parent\n",
        "            parent2<list>: the second parent\n",
        "\n",
        "        returns:\n",
        "            child1<list>: the first child\n",
        "            child2<list>: the second child\n",
        "        \"\"\"\n",
        "\n",
        "        # Randomly select a crossover point\n",
        "        point = random.randint(1, len(parent1) - 1)\n",
        "\n",
        "        # Create the children\n",
        "        child1 = np.concatenate((parent1[:point], parent2[point:]))\n",
        "        child2 = np.concatenate((parent2[:point], parent1[point:]))\n",
        "\n",
        "        return child1, child2\n",
        "\n",
        "\n",
        "    def mutate(individual, mutation_rate):\n",
        "        \"\"\"\n",
        "        Mutates the individual.\n",
        "\n",
        "        args:\n",
        "            individual<list>: the individual to be mutated\n",
        "            mutation_rate<float>: the mutation rate\n",
        "        \"\"\"\n",
        "\n",
        "        # Mutate each gene with the given probability\n",
        "        if random.random() < mutation_rate:\n",
        "            index = random.randint(0, len(individual)-1)\n",
        "            individual[index] = random.randint(0, len(parks)-1)\n",
        "\n",
        "\n",
        "    def genetic_algorithm(parks,cars, population_size, generations, mutation_rate):\n",
        "        \"\"\"\n",
        "        Runs the genetic algorithm to find the best assignment of cars to parking lots.\n",
        "\n",
        "        args:\n",
        "            parks<list>: the list of parking lots\n",
        "            cars<list>: the list of cars\n",
        "            population_size<int>: the size of the population\n",
        "            generations<int>: the number of generations\n",
        "            mutation_rate<float>: the mutation rate\n",
        "\n",
        "        returns:\n",
        "            best_individual<list>: the best assignment of cars to parking lots\n",
        "            best_fitness<float>: the fitness of the best assignment\n",
        "            fitness_scores<list>: the fitness scores of the generations\n",
        "        \"\"\"\n",
        "\n",
        "        # Initializing the variables\n",
        "        fitness_scores = []\n",
        "        population = create_initial_population(parks, cars, population_size)\n",
        "        best_individual = None\n",
        "        best_fitness = -float('inf')\n",
        "\n",
        "        # Running the genetic algorithm\n",
        "        for generation in range(generations):\n",
        "\n",
        "            # Calculating the fitness of the population\n",
        "            fitnesses = [fitness_function(individual, cars,mode) for individual in population]\n",
        "\n",
        "            # Updating the best individual and fitness\n",
        "            if max(fitnesses) > best_fitness:\n",
        "                best_fitness = max(fitnesses)\n",
        "                best_individual = population[np.argmax(fitnesses)]\n",
        "\n",
        "            # Selecting the individuals for the next generation\n",
        "            selected_individuals = selection(population, fitnesses, population_size)\n",
        "            next_generation = []\n",
        "\n",
        "            # Creating the next generation\n",
        "            while len(next_generation) < population_size:\n",
        "\n",
        "                # Select two parents\n",
        "                parents = random.sample(selected_individuals, 2)\n",
        "\n",
        "                # Crossover the parents\n",
        "                offspring1, offspring2 = crossover(parents[0], parents[1])\n",
        "\n",
        "                # Mutate the offspring\n",
        "                mutate(offspring1, mutation_rate)\n",
        "                mutate(offspring2, mutation_rate)\n",
        "\n",
        "                next_generation.extend([offspring1, offspring2])\n",
        "\n",
        "            # Updating the population\n",
        "            population = next_generation[:population_size]\n",
        "\n",
        "            if verbose and generation % 100 == 0:\n",
        "                print(f\"Generation {generation + 1}, Best Fitness: {best_fitness}\")\n",
        "\n",
        "            # Appending the best fitness to the fitness scores\n",
        "            fitness_scores.append(best_fitness)\n",
        "\n",
        "        return best_individual, best_fitness, fitness_scores\n",
        "\n",
        "    # Running the genetic algorithm\n",
        "    best_assignment, best_fitness, fitness_scores = genetic_algorithm(parks, cars, population_size, generations, mutation_rate)\n",
        "\n",
        "    return best_assignment, best_fitness, fitness_scores"
      ]
    },
    {
      "cell_type": "markdown",
      "metadata": {
        "id": "OwpmULkRcrWf"
      },
      "source": [
        "### Average Distance Calculation"
      ]
    },
    {
      "cell_type": "code",
      "execution_count": 16,
      "metadata": {
        "id": "U-xD1fZWcrWf"
      },
      "outputs": [],
      "source": [
        "def avg_distance_prices(cars, parks, assignment):\n",
        "    \"\"\"\n",
        "    Calculates the average distance and price of the assignment of cars to parking lots.\n",
        "\n",
        "    args:\n",
        "        cars<list>: the list of cars\n",
        "        parks<list>: the list of parking lots\n",
        "        assignment<list>: the assignment of cars to parking lots\n",
        "\n",
        "    returns:\n",
        "        avg_distance<float>: the average distance of the assignment\n",
        "        avg_price<float>: the average price of the assignment\n",
        "    \"\"\"\n",
        "\n",
        "    # initializing the variables\n",
        "    avg_distance = 0\n",
        "    avg_price = 0\n",
        "\n",
        "    # calculating the average distance and price\n",
        "    for car_index, lot_index in enumerate(assignment):\n",
        "        distance = geodesic(cars[car_index].location, (parks[lot_index].lat, parks[lot_index].lng)).km\n",
        "        avg_distance += distance\n",
        "        avg_price += parks[lot_index].get_price(cars[car_index].parking_hour) + distance * (cars[car_index].gas_usage)\n",
        "\n",
        "    # calculating the average distance and price\n",
        "    avg_distance /= len(cars)\n",
        "    avg_price /= len(cars)\n",
        "\n",
        "    return avg_distance, avg_price"
      ]
    },
    {
      "cell_type": "markdown",
      "metadata": {
        "id": "o9i5wjPzcrWf"
      },
      "source": [
        "# Experiments"
      ]
    },
    {
      "cell_type": "markdown",
      "metadata": {
        "id": "SJ4LcciXcrWf"
      },
      "source": [
        "### Nearest Parking Lot Strategy"
      ]
    },
    {
      "cell_type": "code",
      "execution_count": 17,
      "metadata": {
        "colab": {
          "base_uri": "https://localhost:8080/"
        },
        "id": "Yja5nh6UcrWg",
        "outputId": "6be31b71-fef6-44c8-ac09-00d2cefd761d"
      },
      "outputs": [
        {
          "name": "stdout",
          "output_type": "stream",
          "text": [
            "Average distance between every car and nearest parking lots: 1.6466484295392114 km\n"
          ]
        }
      ],
      "source": [
        "# initializing the variables\n",
        "total = 0\n",
        "opt_parks = []\n",
        "\n",
        "# for each car, finding the closest parking lot\n",
        "for car in cars:\n",
        "    min_distance = float('inf')\n",
        "\n",
        "    for park in parks:\n",
        "        distance = geodesic(car.location, (park.lat, park.lng)).km\n",
        "\n",
        "        if distance < min_distance:\n",
        "            min_distance = distance\n",
        "            closest_park = park\n",
        "\n",
        "    total += min_distance\n",
        "    opt_parks.append(closest_park.id)\n",
        "\n",
        "print(f\"Average distance between every car and nearest parking lots: {total/len(cars)} km\")"
      ]
    },
    {
      "cell_type": "code",
      "execution_count": 18,
      "metadata": {
        "id": "yYsxz4ircrWg"
      },
      "outputs": [],
      "source": [
        "# initializing the experiment variables\n",
        "pop_size = [25,50,75,100]\n",
        "mut_rate = [0.05,0.1,0.2,0.3]\n",
        "gens = [100,500,1000,2000]"
      ]
    },
    {
      "cell_type": "markdown",
      "metadata": {
        "id": "i1aEOp5TcrWg"
      },
      "source": [
        "## Exp. No.1 Population Size Evaluation\n",
        "\n",
        "#### Running the genetic algorithm for different inputs of \"population\" sizes."
      ]
    },
    {
      "cell_type": "code",
      "execution_count": 19,
      "metadata": {
        "colab": {
          "base_uri": "https://localhost:8080/"
        },
        "id": "pah_YoxjcrWg",
        "outputId": "7f344a5b-c49e-475d-d1a2-861fd8586064"
      },
      "outputs": [
        {
          "name": "stdout",
          "output_type": "stream",
          "text": [
            "Population Size: 25, Best Fitness: 0.005682366911681542\n",
            "Population Size: 50, Best Fitness: 0.006094486690962655\n",
            "Population Size: 75, Best Fitness: 0.0065591312522460445\n",
            "Population Size: 100, Best Fitness: 0.006926753859802592\n"
          ]
        }
      ],
      "source": [
        "pop_results = []\n",
        "for pop in pop_size:\n",
        "    best_assignment, best_fitness, fitness_scores = run_genetic_algorithm(parks.copy(), cars.copy(), pop, 100, 0.1, mode=1)\n",
        "    print(f\"Population Size: {pop}, Best Fitness: {best_fitness}\")\n",
        "    pop_results.append([best_assignment, best_fitness, fitness_scores])"
      ]
    },
    {
      "cell_type": "code",
      "execution_count": 20,
      "metadata": {
        "colab": {
          "base_uri": "https://localhost:8080/",
          "height": 564
        },
        "id": "c9-1_fMGcrWg",
        "outputId": "8e3bbeaa-d7b8-4896-9f90-923e6ab6f639"
      },
      "outputs": [
        {
          "data": {
            "image/png": "[encoded data removed]",
            "text/plain": [
              "<Figure size 1000x600 with 1 Axes>"
            ]
          },
          "metadata": {},
          "output_type": "display_data"
        }
      ],
      "source": [
        "plt.figure(figsize=(10, 6))\n",
        "for i, result in enumerate(pop_results):\n",
        "    plt.plot(result[2], label=f\"Population Size: {pop_size[i]}\")\n",
        "plt.xlabel(\"Generation\")\n",
        "plt.ylabel(\"Fitness\")\n",
        "plt.legend()\n",
        "plt.title(\"Population Size Results\")\n",
        "plt.show()"
      ]
    },
    {
      "cell_type": "markdown",
      "metadata": {
        "id": "v3s-TKFdcrWg"
      },
      "source": [
        "## Exp. No.2 Mutation Rate Evaluation\n",
        "\n",
        "#### Running the genetic algorithm for different inputs of \"mutation\" rates."
      ]
    },
    {
      "cell_type": "code",
      "execution_count": 21,
      "metadata": {
        "colab": {
          "base_uri": "https://localhost:8080/"
        },
        "id": "S2K5JDpVcrWg",
        "outputId": "7267105a-4bb7-4de1-ef5a-31d59be1ab98"
      },
      "outputs": [
        {
          "name": "stdout",
          "output_type": "stream",
          "text": [
            "Mutation Rate: 0.05, Best Fitness: 0.00619393152279666\n",
            "Mutation Rate: 0.1, Best Fitness: 0.006772282461555419\n",
            "Mutation Rate: 0.2, Best Fitness: 0.007126247375244133\n",
            "Mutation Rate: 0.3, Best Fitness: 0.0071971322099571135\n"
          ]
        }
      ],
      "source": [
        "mut_results = []\n",
        "for mut in mut_rate:\n",
        "    best_assignment, best_fitness, fitness_scores = run_genetic_algorithm(parks.copy(), cars.copy(), 100, 100, mut, mode=1)\n",
        "    print(f\"Mutation Rate: {mut}, Best Fitness: {best_fitness}\")\n",
        "    mut_results.append([best_assignment, best_fitness, fitness_scores])"
      ]
    },
    {
      "cell_type": "code",
      "execution_count": 22,
      "metadata": {
        "colab": {
          "base_uri": "https://localhost:8080/",
          "height": 564
        },
        "id": "PRN-gjBTcrWh",
        "outputId": "a2f8802f-0f0e-4793-f3d4-e8094d2dc342"
      },
      "outputs": [
        {
          "data": {
            "image/png": "[encoded data removed]",
            "text/plain": [
              "<Figure size 1000x600 with 1 Axes>"
            ]
          },
          "metadata": {},
          "output_type": "display_data"
        }
      ],
      "source": [
        "plt.figure(figsize=(10, 6))\n",
        "for mut, result in zip(mut_rate, mut_results):\n",
        "    plt.plot(result[2], label=f\"Mutation Rate: {mut}\")\n",
        "plt.xlabel(\"Generation\")\n",
        "plt.ylabel(\"Fitness\")\n",
        "plt.title(\"Mutation Rate Results\")\n",
        "plt.legend()\n",
        "plt.show()"
      ]
    },
    {
      "cell_type": "markdown",
      "metadata": {
        "id": "rj0SwP0zcrWk"
      },
      "source": [
        "## Exp. No.3 Generation Number Evaluation\n",
        "\n",
        "#### Running the genetic algorithm for a high value of \"generation\" number."
      ]
    },
    {
      "cell_type": "code",
      "execution_count": 23,
      "metadata": {
        "colab": {
          "base_uri": "https://localhost:8080/"
        },
        "id": "baalyojrcrWk",
        "outputId": "318f8225-3270-45e3-b7d2-4a944fdcbb5d"
      },
      "outputs": [
        {
          "name": "stdout",
          "output_type": "stream",
          "text": [
            "Generation 1, Best Fitness: 0.004570692374687482\n",
            "Generation 101, Best Fitness: 0.0068853305020740215\n",
            "Generation 201, Best Fitness: 0.007666278536040096\n",
            "Generation 301, Best Fitness: 0.008186535666011102\n",
            "Generation 401, Best Fitness: 0.00872996147360189\n",
            "Generation 501, Best Fitness: 0.009512656380102378\n",
            "Generation 601, Best Fitness: 0.00980598955260733\n",
            "Generation 701, Best Fitness: 0.010137674676181437\n",
            "Generation 801, Best Fitness: 0.010421017229756304\n",
            "Generation 901, Best Fitness: 0.010590319424624484\n",
            "Generation 1001, Best Fitness: 0.01085113351046443\n",
            "Generation 1101, Best Fitness: 0.010879597550354886\n",
            "Generation 1201, Best Fitness: 0.011035162568409994\n",
            "Generation 1301, Best Fitness: 0.011211063215954572\n",
            "Generation 1401, Best Fitness: 0.01141600497390161\n",
            "Generation 1501, Best Fitness: 0.011577290954724713\n",
            "Generation 1601, Best Fitness: 0.012100384658087817\n",
            "Generation 1701, Best Fitness: 0.01219908897222801\n",
            "Generation 1801, Best Fitness: 0.012308720091103467\n",
            "Generation 1901, Best Fitness: 0.012479377586072172\n"
          ]
        }
      ],
      "source": [
        "best_assignment, best_fitness, fitness_scores = run_genetic_algorithm(parks.copy(), cars.copy(), 40, 2000, 0.3, mode=1, verbose=True)"
      ]
    },
    {
      "cell_type": "code",
      "execution_count": 24,
      "metadata": {
        "colab": {
          "base_uri": "https://localhost:8080/",
          "height": 472
        },
        "id": "rP2yqwDBcrWk",
        "outputId": "cec87dd6-618b-4a6c-8e64-6829381de061"
      },
      "outputs": [
        {
          "data": {
            "image/png": "[encoded data removed]",
            "text/plain": [
              "<Figure size 640x480 with 1 Axes>"
            ]
          },
          "metadata": {},
          "output_type": "display_data"
        }
      ],
      "source": [
        "plt.plot(fitness_scores)\n",
        "plt.xlabel(\"Generation\")\n",
        "plt.ylabel(\"Fitness Score\")\n",
        "plt.title(\"Fitness Score vs Generation\")\n",
        "plt.show()"
      ]
    },
    {
      "cell_type": "markdown",
      "metadata": {
        "id": "69gE3AAgcrWk"
      },
      "source": [
        "## Exp. No.4 Different Fitness Functions' Evaluation\n",
        "\n",
        "#### Running the genetic algorithm for different \"fitness functions\"."
      ]
    },
    {
      "cell_type": "markdown",
      "metadata": {
        "id": "qS2RF8ggcrWk"
      },
      "source": [
        "#### $1^{st}$ Fitness Function"
      ]
    },
    {
      "cell_type": "code",
      "execution_count": 25,
      "metadata": {
        "colab": {
          "base_uri": "https://localhost:8080/"
        },
        "id": "-oMepfRLcrWl",
        "outputId": "8b228633-67bc-4ad8-ec45-0d6561b4c668"
      },
      "outputs": [
        {
          "name": "stdout",
          "output_type": "stream",
          "text": [
            "Generation 1, Best Fitness: 0.004298742337626183\n",
            "Generation 101, Best Fitness: 0.007234316541646577\n",
            "Generation 201, Best Fitness: 0.008699432793055956\n",
            "Generation 301, Best Fitness: 0.009677262308527158\n",
            "Generation 401, Best Fitness: 0.01032264990887191\n",
            "Generation 501, Best Fitness: 0.010771962091751231\n",
            "Generation 601, Best Fitness: 0.011262336478999924\n",
            "Generation 701, Best Fitness: 0.011601269660921452\n",
            "Generation 801, Best Fitness: 0.011986686554835785\n",
            "Generation 901, Best Fitness: 0.012116842050750832\n",
            "Best Fitness: 0.012613614437913511\n"
          ]
        }
      ],
      "source": [
        "best_assignment1, best_fitness1, fitness_scores1 = run_genetic_algorithm(parks.copy(), cars.copy(), 100, 1000, 0.3, mode=1, verbose=True)\n",
        "print(f\"Best Fitness: {best_fitness1}\")"
      ]
    },
    {
      "cell_type": "markdown",
      "metadata": {
        "id": "6JQU-IYvcrWl"
      },
      "source": [
        "#### $2^{nd}$ Fitness Function"
      ]
    },
    {
      "cell_type": "code",
      "execution_count": 26,
      "metadata": {
        "colab": {
          "base_uri": "https://localhost:8080/"
        },
        "id": "zTLoT4_wcrWl",
        "outputId": "d47a0a19-2827-40a7-b93c-58236aef117e"
      },
      "outputs": [
        {
          "name": "stdout",
          "output_type": "stream",
          "text": [
            "Generation 1, Best Fitness: -232.93561438873726\n",
            "Generation 101, Best Fitness: -131.2052233389097\n",
            "Generation 201, Best Fitness: -113.12338727564301\n",
            "Generation 301, Best Fitness: -99.00752952945727\n",
            "Generation 401, Best Fitness: -92.1217737763961\n",
            "Generation 501, Best Fitness: -88.87816047234308\n",
            "Generation 601, Best Fitness: -86.40329341456196\n",
            "Generation 701, Best Fitness: -83.57724104373116\n",
            "Generation 801, Best Fitness: -82.06839632155224\n",
            "Generation 901, Best Fitness: -80.20960187850079\n",
            "Best Fitness: -78.94233034635795\n"
          ]
        }
      ],
      "source": [
        "best_assignment2, best_fitness2, fitness_scores2 = run_genetic_algorithm(parks.copy(), cars.copy(), 100, 1000, 0.3,mode=2,verbose=True)\n",
        "print(f\"Best Fitness: {best_fitness2}\")"
      ]
    },
    {
      "cell_type": "markdown",
      "metadata": {
        "id": "CEz4XuuicrWl"
      },
      "source": [
        "#### Comparing Results"
      ]
    },
    {
      "cell_type": "markdown",
      "metadata": {
        "id": "rHiku2vccrWl"
      },
      "source": [
        "#### $1^{st}$ Fitness Function"
      ]
    },
    {
      "cell_type": "code",
      "execution_count": 27,
      "metadata": {
        "colab": {
          "base_uri": "https://localhost:8080/"
        },
        "id": "-d4dFq0pcrWl",
        "outputId": "e3377235-7ea4-41ab-af63-bf0a3ad4eb74"
      },
      "outputs": [
        {
          "name": "stdout",
          "output_type": "stream",
          "text": [
            "Average distance between cars and parking lots: 4.86991603136533 km\n",
            "Average price paid by cars: 113.82042184069624 ₺\n"
          ]
        }
      ],
      "source": [
        "avg_distance, avg_price = avg_distance_prices(cars, parks, best_assignment1)\n",
        "\n",
        "print(f\"Average distance between cars and parking lots: {avg_distance} km\")\n",
        "print(f\"Average price paid by cars: {avg_price} ₺\")"
      ]
    },
    {
      "cell_type": "markdown",
      "metadata": {
        "id": "wLDR--djcrWl"
      },
      "source": [
        "#### $2^{nd}$ Fitness Function"
      ]
    },
    {
      "cell_type": "code",
      "execution_count": 28,
      "metadata": {
        "colab": {
          "base_uri": "https://localhost:8080/"
        },
        "id": "2V3yfaRFcrWl",
        "outputId": "8ea9d235-e073-4013-c780-13ca7f43e574"
      },
      "outputs": [
        {
          "name": "stdout",
          "output_type": "stream",
          "text": [
            "Average distance between cars and parking lots: 4.433264020262411 km\n",
            "Average price paid by cars: 115.91063893256882 TL\n"
          ]
        }
      ],
      "source": [
        "avg_distance, avg_price = avg_distance_prices(cars, parks, best_assignment2)\n",
        "\n",
        "print(f\"Average distance between cars and parking lots: {avg_distance} km\")\n",
        "print(f\"Average price paid by cars: {avg_price} TL\")"
      ]
    },
    {
      "cell_type": "markdown",
      "metadata": {
        "id": "usPXhl4ccrWm"
      },
      "source": [
        "## Genetic Algorithm vs Nearest Parking Lot Strategy"
      ]
    },
    {
      "cell_type": "markdown",
      "metadata": {
        "id": "6IWoL1Y6crWm"
      },
      "source": [
        "#### Best Fitness Function ($2^{nd}$)"
      ]
    },
    {
      "cell_type": "code",
      "execution_count": 29,
      "metadata": {
        "colab": {
          "base_uri": "https://localhost:8080/"
        },
        "id": "3NyI5g7XcrWm",
        "outputId": "65be190d-b33e-4bf1-fff1-5472221984d4"
      },
      "outputs": [
        {
          "name": "stdout",
          "output_type": "stream",
          "text": [
            "Average distance between cars and parking lots: 4.433264020262411 km\n",
            "Average price paid by cars: 115.91063893256882 TL\n"
          ]
        }
      ],
      "source": [
        "# Compare the fitness function assignmets with distances\n",
        "avg_distance, avg_price = avg_distance_prices(cars, parks, best_assignment2)\n",
        "\n",
        "print(f\"Average distance between cars and parking lots: {avg_distance} km\")\n",
        "print(f\"Average price paid by cars: {avg_price} TL\")"
      ]
    },
    {
      "cell_type": "markdown",
      "metadata": {
        "id": "U7Z_7-JJcrWm"
      },
      "source": [
        "#### Nearest Parking Lot Strategy"
      ]
    },
    {
      "cell_type": "code",
      "execution_count": 30,
      "metadata": {
        "colab": {
          "base_uri": "https://localhost:8080/"
        },
        "id": "kuWVdjBIcrWm",
        "outputId": "7d593aee-82de-40f7-f4a4-67ec70c89842"
      },
      "outputs": [
        {
          "name": "stdout",
          "output_type": "stream",
          "text": [
            "Average distance between cars and parking lots: 1.6466484295392114 km\n",
            "Average price paid by cars: 128.3676108958862 TL\n"
          ]
        }
      ],
      "source": [
        "# Compare the fitness function assignmets with distances\n",
        "avg_distance, avg_price = avg_distance_prices(cars, parks, opt_parks)\n",
        "\n",
        "print(f\"Average distance between cars and parking lots: {avg_distance} km\")\n",
        "print(f\"Average price paid by cars: {avg_price} TL\")"
      ]
    },
    {
      "cell_type": "markdown",
      "metadata": {
        "id": "o5Dn1TYfcrWm"
      },
      "source": [
        "### Comparing the Fitness Function Assignmets with Full Parking Lots"
      ]
    },
    {
      "cell_type": "markdown",
      "metadata": {},
      "source": [
        "#### Nearest Parking Lot Strategy "
      ]
    },
    {
      "cell_type": "code",
      "execution_count": 31,
      "metadata": {
        "colab": {
          "base_uri": "https://localhost:8080/"
        },
        "id": "8adJlM3ZcrWn",
        "outputId": "2af1c07e-e609-4f75-d043-4d35e56c13cd"
      },
      "outputs": [
        {
          "name": "stdout",
          "output_type": "stream",
          "text": [
            "Number of cars assigned to full parking lots: 24\n"
          ]
        }
      ],
      "source": [
        "nearest_full = 0\n",
        "added_park = []\n",
        "\n",
        "for park in opt_parks:\n",
        "    if parks[park].isempty():\n",
        "        parks[park].add_car()\n",
        "        added_park.append(park)\n",
        "    else:\n",
        "        nearest_full += 1\n",
        "\n",
        "print(f\"Number of cars assigned to full parking lots: {nearest_full}\")\n",
        "\n",
        "for park in added_park:\n",
        "    parks[park].remove_car()"
      ]
    },
    {
      "cell_type": "markdown",
      "metadata": {
        "id": "lJAyzneicrWn"
      },
      "source": [
        "#### Fitness Function ($2^{nd}$)"
      ]
    },
    {
      "cell_type": "code",
      "execution_count": 32,
      "metadata": {
        "colab": {
          "base_uri": "https://localhost:8080/"
        },
        "id": "FeIfzb5pcrWn",
        "outputId": "03d2c777-546b-4d49-d938-e2a2e39d160f"
      },
      "outputs": [
        {
          "name": "stdout",
          "output_type": "stream",
          "text": [
            "Number of cars assigned to full parking lots: 0\n"
          ]
        }
      ],
      "source": [
        "nearest_full = 0\n",
        "added_park = []\n",
        "for park in best_assignment2:\n",
        "    if parks[park].isempty():\n",
        "        parks[park].add_car()\n",
        "        added_park.append(park)\n",
        "    else:\n",
        "        nearest_full += 1\n",
        "\n",
        "print(f\"Number of cars assigned to full parking lots: {nearest_full}\")\n",
        "\n",
        "for park in added_park:\n",
        "    parks[park].remove_car()"
      ]
    }
  ],
  "metadata": {
    "colab": {
      "provenance": []
    },
    "kernelspec": {
      "display_name": "Python 3",
      "name": "python3"
    },
    "language_info": {
      "codemirror_mode": {
        "name": "ipython",
        "version": 3
      },
      "file_extension": ".py",
      "mimetype": "text/x-python",
      "name": "python",
      "nbconvert_exporter": "python",
      "pygments_lexer": "ipython3",
      "version": "3.11.9"
    }
  },
  "nbformat": 4,
  "nbformat_minor": 0
}
